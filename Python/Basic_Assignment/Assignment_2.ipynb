{
 "cells": [
  {
   "cell_type": "markdown",
   "id": "accessory-daughter",
   "metadata": {},
   "source": [
    "### 1. What are the two values of the Boolean data type? How do you write them?"
   ]
  },
  {
   "cell_type": "markdown",
   "id": "practical-anthropology",
   "metadata": {},
   "source": [
    "**Ans:** True and Flase are two values of the boolean data types. we have to use capital T and F and with the rest of the word in lower case"
   ]
  },
  {
   "cell_type": "code",
   "execution_count": 2,
   "id": "forbidden-airline",
   "metadata": {},
   "outputs": [
    {
     "name": "stdout",
     "output_type": "stream",
     "text": [
      "True <class 'bool'>\n",
      "False <class 'bool'>\n"
     ]
    }
   ],
   "source": [
    "x = True\n",
    "y = False\n",
    "print(x,type(x))\n",
    "print(y,type(y))"
   ]
  },
  {
   "cell_type": "markdown",
   "id": "capital-communist",
   "metadata": {},
   "source": [
    "### 2. What are the three different types of Boolean operator?"
   ]
  },
  {
   "cell_type": "markdown",
   "id": "treated-pierce",
   "metadata": {},
   "source": [
    "**Ans:** In python, we have three boolean operators. <br>\n",
    "**and** <br> **or** <br> **not**"
   ]
  },
  {
   "cell_type": "code",
   "execution_count": 6,
   "id": "dated-sacrifice",
   "metadata": {},
   "outputs": [
    {
     "name": "stdout",
     "output_type": "stream",
     "text": [
      "True\n",
      "True\n",
      "False\n"
     ]
    }
   ],
   "source": [
    "x = 10\n",
    "y = 20\n",
    "print(x>5 and  y>10)\n",
    "print(x>20 or  y>10)\n",
    "print(not(x<100))"
   ]
  },
  {
   "cell_type": "markdown",
   "id": "understood-sponsorship",
   "metadata": {},
   "source": [
    "### 3. Make a list of each Boolean operator's truth tables (i.e. every possible combination of Boolean values for the operator and what it evaluate)."
   ]
  },
  {
   "cell_type": "markdown",
   "id": "temporal-stand",
   "metadata": {},
   "source": [
    "* **Truth table for or operator**  <br>\n",
    "    True or True is True <br>\n",
    "    True or False is True <br>\n",
    "    False or Ture is True <br>\n",
    "    False or False is  False <br>\n",
    "    \n",
    "* **Truth table for and operator** <br>\n",
    "    True and True is True <br>\n",
    "    True and False is False <br>\n",
    "    False and Ture is False <br>\n",
    "    False and False is  False   <br> \n",
    "    \n",
    "* **Truth table for not operator** <br>\n",
    "    True not is False <br>\n",
    "    False not is True <br>\n"
   ]
  },
  {
   "cell_type": "markdown",
   "id": "european-slovak",
   "metadata": {},
   "source": [
    "### 4. What are the values of the following expressions?"
   ]
  },
  {
   "cell_type": "code",
   "execution_count": 7,
   "id": "ancient-mexican",
   "metadata": {},
   "outputs": [
    {
     "data": {
      "text/plain": [
       "False"
      ]
     },
     "execution_count": 7,
     "metadata": {},
     "output_type": "execute_result"
    }
   ],
   "source": [
    "(5>4) and (3==5) ## False"
   ]
  },
  {
   "cell_type": "code",
   "execution_count": 8,
   "id": "catholic-granny",
   "metadata": {},
   "outputs": [
    {
     "data": {
      "text/plain": [
       "False"
      ]
     },
     "execution_count": 8,
     "metadata": {},
     "output_type": "execute_result"
    }
   ],
   "source": [
    "not(5>4)  # False"
   ]
  },
  {
   "cell_type": "code",
   "execution_count": 9,
   "id": "together-present",
   "metadata": {},
   "outputs": [
    {
     "data": {
      "text/plain": [
       "True"
      ]
     },
     "execution_count": 9,
     "metadata": {},
     "output_type": "execute_result"
    }
   ],
   "source": [
    "(5>4) or (3==5) # True"
   ]
  },
  {
   "cell_type": "code",
   "execution_count": 10,
   "id": "brilliant-sight",
   "metadata": {},
   "outputs": [
    {
     "data": {
      "text/plain": [
       "False"
      ]
     },
     "execution_count": 10,
     "metadata": {},
     "output_type": "execute_result"
    }
   ],
   "source": [
    "not((5>4) or (3==5)) #False"
   ]
  },
  {
   "cell_type": "code",
   "execution_count": 11,
   "id": "bizarre-charles",
   "metadata": {},
   "outputs": [
    {
     "data": {
      "text/plain": [
       "False"
      ]
     },
     "execution_count": 11,
     "metadata": {},
     "output_type": "execute_result"
    }
   ],
   "source": [
    "(True and True)and(True==False) #False"
   ]
  },
  {
   "cell_type": "code",
   "execution_count": 12,
   "id": "adjusted-cruise",
   "metadata": {},
   "outputs": [
    {
     "data": {
      "text/plain": [
       "True"
      ]
     },
     "execution_count": 12,
     "metadata": {},
     "output_type": "execute_result"
    }
   ],
   "source": [
    "(not False) or (not True) #Ture"
   ]
  },
  {
   "cell_type": "markdown",
   "id": "sharing-province",
   "metadata": {},
   "source": [
    "### 5. What are the six comparision operators?"
   ]
  },
  {
   "cell_type": "markdown",
   "id": "portuguese-source",
   "metadata": {},
   "source": [
    "**Comparision operators are:** <br>\n",
    "* ==\n",
    "* !=\n",
    "* '>'\n",
    "* '<'\n",
    "* '>='\n",
    "* '<='"
   ]
  },
  {
   "cell_type": "markdown",
   "id": "orange-aside",
   "metadata": {},
   "source": [
    "### 6. How do you tell the difference between the equal to and assignment operators? Describe a condition and when you would use one"
   ]
  },
  {
   "cell_type": "markdown",
   "id": "legitimate-colors",
   "metadata": {},
   "source": [
    "**==** is equal to opertor that compares two values and evalutes to a Boolean, while **=** is assignment operator that store a value in a variable"
   ]
  },
  {
   "cell_type": "markdown",
   "id": "least-burns",
   "metadata": {},
   "source": [
    "### 7. Identify the three blocks in this code"
   ]
  },
  {
   "cell_type": "code",
   "execution_count": 15,
   "id": "athletic-packaging",
   "metadata": {},
   "outputs": [
    {
     "name": "stdout",
     "output_type": "stream",
     "text": [
      "ham\n",
      "spam\n",
      "spam\n"
     ]
    }
   ],
   "source": [
    "spam=0\n",
    "if spam==10:\n",
    "    #block 1 start\n",
    "    print('eggs')\n",
    "    #block 1 ends\n",
    "if spam>5:\n",
    "    #block 2 start\n",
    "    print('bacon')\n",
    "    #block 2 ends\n",
    "else:\n",
    "    #block 3 start\n",
    "    print('ham')\n",
    "    print('spam')\n",
    "    print('spam')\n",
    "    #block 3 ends\n"
   ]
  },
  {
   "cell_type": "markdown",
   "id": "horizontal-denver",
   "metadata": {},
   "source": [
    "### 8. Write code that prints Hello if 1 is stored in spam, prints Howdy if 2 is stored in spam, and prints Greetings! if anything else is stored in spam"
   ]
  },
  {
   "cell_type": "markdown",
   "id": "pharmaceutical-catch",
   "metadata": {},
   "source": [
    "def spamdis(spam):\n",
    "    if spam==1:\n",
    "        print('Hello')\n",
    "    elif spam==2:\n",
    "        print('Howdy')\n",
    "    else:\n",
    "        print('Greetings!')"
   ]
  },
  {
   "cell_type": "code",
   "execution_count": 24,
   "id": "modern-reservation",
   "metadata": {},
   "outputs": [
    {
     "name": "stdout",
     "output_type": "stream",
     "text": [
      "Hello\n",
      "Howdy\n",
      "Greetings!\n"
     ]
    }
   ],
   "source": [
    "spamdis(1)\n",
    "spamdis(2)\n",
    "spamdis(5)"
   ]
  },
  {
   "cell_type": "markdown",
   "id": "southeast-program",
   "metadata": {},
   "source": [
    "### 9. If your programme is stuck in an endless loop, what keys you'll press?"
   ]
  },
  {
   "cell_type": "markdown",
   "id": "compact-divide",
   "metadata": {},
   "source": [
    "x=1\n",
    "while x<=10:\n",
    "    print('never end loop')\n",
    "    \n",
    "<br>"
   ]
  },
  {
   "cell_type": "markdown",
   "id": "incredible-haiti",
   "metadata": {},
   "source": [
    "### 10. How can you tell the difference beetween break and continue?"
   ]
  },
  {
   "cell_type": "markdown",
   "id": "royal-edition",
   "metadata": {},
   "source": [
    "**break:** statement will move the execution out side of current loop if break condition is satisfied. <br>\n",
    "**continue:** statement will move the execution to the start of the loop"
   ]
  },
  {
   "cell_type": "markdown",
   "id": "speaking-authorization",
   "metadata": {},
   "source": [
    "### 11. In a for loop, what is the difference between range(10), range(0,10), and range(0,10,1)?"
   ]
  },
  {
   "cell_type": "code",
   "execution_count": 27,
   "id": "immediate-philip",
   "metadata": {
    "scrolled": true
   },
   "outputs": [
    {
     "name": "stdout",
     "output_type": "stream",
     "text": [
      "range(0, 10)\n"
     ]
    }
   ],
   "source": [
    "print(range(10))"
   ]
  },
  {
   "cell_type": "code",
   "execution_count": 28,
   "id": "traditional-address",
   "metadata": {},
   "outputs": [
    {
     "name": "stdout",
     "output_type": "stream",
     "text": [
      "range(0, 10)\n"
     ]
    }
   ],
   "source": [
    "print(range(0,10))"
   ]
  },
  {
   "cell_type": "code",
   "execution_count": 29,
   "id": "statewide-plane",
   "metadata": {},
   "outputs": [
    {
     "name": "stdout",
     "output_type": "stream",
     "text": [
      "range(0, 10)\n"
     ]
    }
   ],
   "source": [
    "print(range(0,10,1))"
   ]
  },
  {
   "cell_type": "markdown",
   "id": "fifteen-roots",
   "metadata": {},
   "source": [
    "**range(start,stop,step)**\n",
    "* In **range(10)**, start and step are by default 0 and 1. i.e. values from 0 to 9.\n",
    "* In **range(0,10)**, we are explicitly specifying start values.\n",
    "* in **range(0,10,1)**, we are explicity sepcifying start and end values but default values also same for range function."
   ]
  },
  {
   "cell_type": "markdown",
   "id": "diagnostic-evans",
   "metadata": {},
   "source": [
    "### 12. Write a short program that prints the numbers 1 to 10 using a for loop. then write an equivalent program that prints the numbers 1 to 10 using while loop."
   ]
  },
  {
   "cell_type": "code",
   "execution_count": 32,
   "id": "scenic-monster",
   "metadata": {},
   "outputs": [
    {
     "name": "stdout",
     "output_type": "stream",
     "text": [
      "1 2 3 4 5 6 7 8 9 10 "
     ]
    }
   ],
   "source": [
    "# using for loop\n",
    "for i in range(1,11):\n",
    "    print(i, end=' ')"
   ]
  },
  {
   "cell_type": "code",
   "execution_count": 34,
   "id": "controlled-namibia",
   "metadata": {},
   "outputs": [
    {
     "name": "stdout",
     "output_type": "stream",
     "text": [
      "1 2 3 4 5 6 7 8 9 10 "
     ]
    }
   ],
   "source": [
    "# using while loop\n",
    "i=1\n",
    "while i<=10:\n",
    "    print(i, end=' ')\n",
    "    i=i+1"
   ]
  },
  {
   "cell_type": "markdown",
   "id": "aging-montreal",
   "metadata": {},
   "source": [
    "### 13. if you had a function named bacon() inside a module named spam, how would you call it after importing spam?"
   ]
  },
  {
   "cell_type": "markdown",
   "id": "junior-craps",
   "metadata": {},
   "source": [
    "#### modulename.functionname()\n",
    "spam.bacon()"
   ]
  },
  {
   "cell_type": "code",
   "execution_count": null,
   "id": "regular-lighting",
   "metadata": {},
   "outputs": [],
   "source": []
  }
 ],
 "metadata": {
  "kernelspec": {
   "display_name": "Python 3",
   "language": "python",
   "name": "python3"
  },
  "language_info": {
   "codemirror_mode": {
    "name": "ipython",
    "version": 3
   },
   "file_extension": ".py",
   "mimetype": "text/x-python",
   "name": "python",
   "nbconvert_exporter": "python",
   "pygments_lexer": "ipython3",
   "version": "3.8.5"
  }
 },
 "nbformat": 4,
 "nbformat_minor": 5
}
