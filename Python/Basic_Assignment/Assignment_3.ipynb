{
 "cells": [
  {
   "cell_type": "markdown",
   "id": "acceptable-exclusive",
   "metadata": {},
   "source": [
    "### 1. Why are functions advantageous to have in your programs?"
   ]
  },
  {
   "cell_type": "markdown",
   "id": "collaborative-exclusive",
   "metadata": {},
   "source": [
    "#### Below are the advantages of using funcitons:\n",
    "* Reducing duplication of code\n",
    "* Imformation hiding\n",
    "* Decomposing complex problems into simpler pieces\n",
    "* Improving clarity of code\n",
    "* Reuse of code"
   ]
  },
  {
   "cell_type": "markdown",
   "id": "liked-border",
   "metadata": {},
   "source": [
    "### 2. when does the code in a function run: when it 's specified or when it's called?"
   ]
  },
  {
   "cell_type": "markdown",
   "id": "municipal-minutes",
   "metadata": {},
   "source": [
    "The code in a function executes when the function is called, not when the function is specified."
   ]
  },
  {
   "cell_type": "markdown",
   "id": "geographic-allowance",
   "metadata": {},
   "source": [
    "### 3. What statement creates a function"
   ]
  },
  {
   "cell_type": "markdown",
   "id": "automated-emission",
   "metadata": {},
   "source": [
    "The def statement defined the functions.\n",
    "\n",
    "**example**\n",
    "\n",
    "`def function_name(parameters):\n",
    "    \"\"\" \n",
    "    doc string\n",
    "    \"\"\"\n",
    "    ----- statements\n",
    "    ----- statements\n",
    "    return value`\n",
    "    \n",
    "    "
   ]
  },
  {
   "cell_type": "markdown",
   "id": "enclosed-problem",
   "metadata": {},
   "source": [
    "### 4. What is the difference between a function and a function call?"
   ]
  },
  {
   "cell_type": "markdown",
   "id": "bacterial-visitor",
   "metadata": {},
   "source": [
    "A **function** is a group of statements for a particular task. <br>\n",
    "A **function call** is using the function to achive the task."
   ]
  },
  {
   "cell_type": "markdown",
   "id": "numerical-palestinian",
   "metadata": {},
   "source": [
    "### 5. How many global scopes are there in a python program? how many local scopes?"
   ]
  },
  {
   "cell_type": "markdown",
   "id": "numerous-dialogue",
   "metadata": {},
   "source": [
    "There is one global scope, and a local scope is created whenever a function is called."
   ]
  },
  {
   "cell_type": "markdown",
   "id": "automotive-laser",
   "metadata": {},
   "source": [
    "### 6. What happens to variables in a local scope when the funtion call returns?"
   ]
  },
  {
   "cell_type": "markdown",
   "id": "bored-shannon",
   "metadata": {},
   "source": [
    "When a function returns, the local scope is destroyed, and all the variables in it are forgotten."
   ]
  },
  {
   "cell_type": "markdown",
   "id": "stretch-timer",
   "metadata": {},
   "source": [
    "### 7. What is the concept of a return value? Is it possible to have a return value in an expresion?"
   ]
  },
  {
   "cell_type": "markdown",
   "id": "adjacent-lighting",
   "metadata": {},
   "source": [
    "A return value is the value that a function call evaluates to. Like any value, a return value can be used\n",
    "as part of an expression."
   ]
  },
  {
   "cell_type": "markdown",
   "id": "reduced-retirement",
   "metadata": {},
   "source": [
    "### 8. If a function does not have a return statement, what is the return value of a call to that function?"
   ]
  },
  {
   "cell_type": "markdown",
   "id": "informative-production",
   "metadata": {},
   "source": [
    "If there is no return statement for a function, its return value is **None**."
   ]
  },
  {
   "cell_type": "markdown",
   "id": "respiratory-registrar",
   "metadata": {},
   "source": [
    "### 9. How do you make a function variable refer to the global variable?"
   ]
  },
  {
   "cell_type": "markdown",
   "id": "promising-pregnancy",
   "metadata": {},
   "source": [
    "A global statement will force a variable in a function to refer to the global variable.\n",
    "If you want to refer to a global variable in a function, you can use the `global` keyword to declare which variables are  global."
   ]
  },
  {
   "cell_type": "markdown",
   "id": "impressed-highway",
   "metadata": {},
   "source": [
    "### 10. What is the data type of None?"
   ]
  },
  {
   "cell_type": "markdown",
   "id": "weighted-moderator",
   "metadata": {},
   "source": [
    "The data type of None is 'NoneType'"
   ]
  },
  {
   "cell_type": "code",
   "execution_count": 4,
   "id": "effective-personality",
   "metadata": {},
   "outputs": [
    {
     "name": "stdout",
     "output_type": "stream",
     "text": [
      "<class 'NoneType'>\n"
     ]
    }
   ],
   "source": [
    "print(type(None))"
   ]
  },
  {
   "cell_type": "markdown",
   "id": "cosmetic-accent",
   "metadata": {},
   "source": [
    "### 11. What does the sentence import areallyourpetsnamederic do?"
   ]
  },
  {
   "cell_type": "markdown",
   "id": "advanced-recall",
   "metadata": {},
   "source": [
    "import statements import the module named areallyourpetsnamederic"
   ]
  },
  {
   "cell_type": "markdown",
   "id": "hearing-stopping",
   "metadata": {},
   "source": [
    "### 12. If you had a bacon() feature in a spam module, what would you call it after importing spam?"
   ]
  },
  {
   "cell_type": "markdown",
   "id": "yellow-summit",
   "metadata": {},
   "source": [
    "spam.bacon()"
   ]
  },
  {
   "cell_type": "markdown",
   "id": "secret-hartford",
   "metadata": {},
   "source": [
    "### 13. What can you do to save a programme from crashing if it encounters an error?"
   ]
  },
  {
   "cell_type": "markdown",
   "id": "another-chorus",
   "metadata": {},
   "source": [
    "Place the line of code that might cause an error in a `try` clause and use except `block` to handle the error."
   ]
  },
  {
   "cell_type": "markdown",
   "id": "hazardous-collective",
   "metadata": {},
   "source": [
    "### 14. What is the purpose of the try clause? What is the purpose of the except clause?"
   ]
  },
  {
   "cell_type": "markdown",
   "id": "respected-number",
   "metadata": {},
   "source": [
    "The code that could potentially cause an error goes in the `try` clause. The code that executes if an error happens goes in the `except` clause."
   ]
  }
 ],
 "metadata": {
  "kernelspec": {
   "display_name": "Python 3",
   "language": "python",
   "name": "python3"
  },
  "language_info": {
   "codemirror_mode": {
    "name": "ipython",
    "version": 3
   },
   "file_extension": ".py",
   "mimetype": "text/x-python",
   "name": "python",
   "nbconvert_exporter": "python",
   "pygments_lexer": "ipython3",
   "version": "3.8.5"
  }
 },
 "nbformat": 4,
 "nbformat_minor": 5
}
