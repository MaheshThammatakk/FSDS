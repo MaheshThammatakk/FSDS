{
 "cells": [
  {
   "cell_type": "markdown",
   "id": "qualified-experience",
   "metadata": {},
   "source": [
    "### 1. What are the escape characters, and how do you use them?"
   ]
  },
  {
   "cell_type": "markdown",
   "id": "frank-visitor",
   "metadata": {},
   "source": [
    "Escape characters represent characters in string values that would otherwise be difficult or impossible to type into code. we can use the backslash `character` to escape a single character or symbol  \n",
    "**example:** `\\t, \\n`"
   ]
  },
  {
   "cell_type": "markdown",
   "id": "flexible-shoot",
   "metadata": {},
   "source": [
    "### 2. What do the escape characters n and t stand for?"
   ]
  },
  {
   "cell_type": "markdown",
   "id": "seventh-bishop",
   "metadata": {},
   "source": [
    "`\\n` is a newline and\n",
    "`\\t` is a tab"
   ]
  },
  {
   "cell_type": "markdown",
   "id": "global-annotation",
   "metadata": {},
   "source": [
    "### 3. What is the way to include backslash characters in a stirng?"
   ]
  },
  {
   "cell_type": "markdown",
   "id": "turned-reasoning",
   "metadata": {},
   "source": [
    "The `\\\\` escape character will represent the backslash character in a string"
   ]
  },
  {
   "cell_type": "markdown",
   "id": "dramatic-organic",
   "metadata": {},
   "source": [
    "### 4. The string \"Howl's Moving Castle\" is a correct value. why isn't the single quote character in the word Howl's not escaped a problem?"
   ]
  },
  {
   "cell_type": "markdown",
   "id": "complete-commission",
   "metadata": {},
   "source": [
    "The string `\"Howl's Moving Castle\"` escaped the problem because it is wrapped inside double quotes. if its wrapped inside single quotes then we have to use escape character `\\'` to show single quote in the final output  \n",
    "`'Howl\\'s Moving Castle'` **`->`** `'Howl's Moving Castle'`"
   ]
  },
  {
   "cell_type": "markdown",
   "id": "necessary-theory",
   "metadata": {},
   "source": [
    "### 5. How do you write a string of newlies if you don't want to use the n character?"
   ]
  },
  {
   "cell_type": "markdown",
   "id": "meaning-highland",
   "metadata": {},
   "source": [
    "Multiline string allow you to use newlines in string without the `\\n` escape character  "
   ]
  },
  {
   "cell_type": "code",
   "execution_count": 1,
   "id": "mental-tanzania",
   "metadata": {},
   "outputs": [],
   "source": [
    "x = \"\"\" This is practice\n",
    "Assignment number 6\n",
    "in python basic section\n",
    "\n",
    "\"\"\""
   ]
  },
  {
   "cell_type": "markdown",
   "id": "ultimate-equilibrium",
   "metadata": {},
   "source": [
    "### 6. What are the values of the given expressions?\n",
    "`'Hello,world!'[1]\n",
    "'Hello,world!'[0:5]\n",
    "'Hello,world!'[:5]\n",
    "'Hello,world!'[3:]`"
   ]
  },
  {
   "cell_type": "markdown",
   "id": "prepared-advocacy",
   "metadata": {},
   "source": [
    "Below are the output for the expressions:<br>\n",
    "`'Hello,world!'[1] `-->` 'e'\n",
    "'Hello,world!'[0:5] `-->` 'Hello'\n",
    "'Hello,world!'[:5] `-->` 'Hello'\n",
    "'Hello,world!'[3:] `-->` 'lo,world!'`"
   ]
  },
  {
   "cell_type": "markdown",
   "id": "contemporary-cement",
   "metadata": {},
   "source": [
    "### 7. What are the values of the following expressions?\n",
    "`\n",
    "'Hello'.upper()\n",
    "'Hello'.upper().isupper()\n",
    "'Hello'.upper().lower()\n",
    "`"
   ]
  },
  {
   "cell_type": "markdown",
   "id": "important-electronics",
   "metadata": {},
   "source": [
    "`\n",
    "'Hello'.upper() `-->` 'HELLO'\n",
    "'Hello'.upper().isupper() `-->` 'True'\n",
    "'Hello'.upper().lower() `-->`  'hello'\n",
    "`"
   ]
  },
  {
   "cell_type": "code",
   "execution_count": 9,
   "id": "orange-australia",
   "metadata": {},
   "outputs": [
    {
     "data": {
      "text/plain": [
       "'hello'"
      ]
     },
     "execution_count": 9,
     "metadata": {},
     "output_type": "execute_result"
    }
   ],
   "source": [
    "#'Hello'.upper()\n",
    "#'Hello'.upper().isupper()\n",
    "#'Hello'.upper().lower()"
   ]
  },
  {
   "cell_type": "markdown",
   "id": "efficient-white",
   "metadata": {},
   "source": [
    "### 8. What are the values of the following expressions?\n",
    "`\n",
    "'Remember,remember,the fifth of july.'.split()\n",
    "\n",
    "'-'join('There can only one.'.split())\n",
    "`"
   ]
  },
  {
   "cell_type": "code",
   "execution_count": 17,
   "id": "sound-holder",
   "metadata": {},
   "outputs": [
    {
     "data": {
      "text/plain": [
       "'There-can-only-one.'"
      ]
     },
     "execution_count": 17,
     "metadata": {},
     "output_type": "execute_result"
    }
   ],
   "source": [
    "#'Remember,remember,the firth of july.'.split()\n",
    "'-'.join('There can only one.'.split())"
   ]
  },
  {
   "cell_type": "markdown",
   "id": "powerful-mexican",
   "metadata": {},
   "source": [
    "`\n",
    "'Remember,remember,the fifth of july.'.split() ` -> ` ['Remember,remember,the', 'firth', 'of', 'july.']\n",
    "\n",
    "'-'.join('There can only one.'.split()) ` -> ` 'There-can-only-one.'\n",
    "`"
   ]
  },
  {
   "cell_type": "markdown",
   "id": "simplified-calgary",
   "metadata": {},
   "source": [
    "### 9. What are the methods for right-justifying, left-justifying, and centering a string?"
   ]
  },
  {
   "cell_type": "markdown",
   "id": "improving-office",
   "metadata": {},
   "source": [
    "The `rjust()`,`ljust()`,`center()` string methods, respectively"
   ]
  },
  {
   "cell_type": "markdown",
   "id": "overall-better",
   "metadata": {},
   "source": [
    "### 10. What is the best way to remove shitespace characters from the start or end?"
   ]
  },
  {
   "cell_type": "markdown",
   "id": "different-possible",
   "metadata": {},
   "source": [
    "The `lstrip()`, `rstrip()` and `strip()` methods remove whitesapce characters from the left and right ends of a string respectively"
   ]
  }
 ],
 "metadata": {
  "kernelspec": {
   "display_name": "Python 3",
   "language": "python",
   "name": "python3"
  },
  "language_info": {
   "codemirror_mode": {
    "name": "ipython",
    "version": 3
   },
   "file_extension": ".py",
   "mimetype": "text/x-python",
   "name": "python",
   "nbconvert_exporter": "python",
   "pygments_lexer": "ipython3",
   "version": "3.8.5"
  }
 },
 "nbformat": 4,
 "nbformat_minor": 5
}
