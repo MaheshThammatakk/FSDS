{
 "cells": [
  {
   "cell_type": "markdown",
   "id": "inclusive-mills",
   "metadata": {},
   "source": [
    "### 1. In the below elements which of them are values or an expression? eg:- values can be integer or string and expressions will be mathematical operators?\n",
    "\n",
    "##### \" *, 'hello', -87.8, -, / , + , 6\"\n",
    "\n"
   ]
  },
  {
   "cell_type": "markdown",
   "id": "asian-oregon",
   "metadata": {},
   "source": [
    "#### Sol:- \n",
    "\n",
    "There are total 3 values: 'hello', -87.8 and 6 \n",
    "\n",
    "4 expressios: *, -, / and +"
   ]
  },
  {
   "cell_type": "markdown",
   "id": "possible-judges",
   "metadata": {},
   "source": [
    "### 2. What is the difference between string and variable?"
   ]
  },
  {
   "cell_type": "markdown",
   "id": "confident-rover",
   "metadata": {},
   "source": [
    "Ans:-\n",
    "     **Variable** is used to store any information and used later    \n",
    "     **String** is a group of charactors or single charactor usually enclosed with single or double quotes\n",
    "   "
   ]
  },
  {
   "cell_type": "markdown",
   "id": "vietnamese-fantasy",
   "metadata": {},
   "source": [
    "### 3. Describe three different data types"
   ]
  },
  {
   "cell_type": "markdown",
   "id": "international-passage",
   "metadata": {},
   "source": [
    "Three fundamental data types in python are : **int, float and complext**\n",
    "\n",
    "**int**:- to store whole numbers <br>\n",
    "**float**:- to store decimal numbers <br>\n",
    "**complext**:- to store information like 5+4j ( real + imagenay) "
   ]
  },
  {
   "cell_type": "markdown",
   "id": "hazardous-decline",
   "metadata": {},
   "source": [
    "### 4. What is an expression made up of? What do all expressions do?"
   ]
  },
  {
   "cell_type": "markdown",
   "id": "pressed-mozambique",
   "metadata": {},
   "source": [
    "Ans:- An expression is a combination of values, variables, operators, and calls to functions.\n",
    "    Expressions need to be evaluated. If we ask Python to print an expression, the interpreter \n",
    "    evaluates the expression and displays the result."
   ]
  },
  {
   "cell_type": "markdown",
   "id": "together-right",
   "metadata": {},
   "source": [
    "### 5. This assignment statements, like spam = 10. What is the difference between an expression and a statement?"
   ]
  },
  {
   "cell_type": "markdown",
   "id": "mediterranean-practitioner",
   "metadata": {},
   "source": [
    "An **expression** is a combination of values, variables, and operators.When we type an expression at the prompt,the interpreter evaluates it, which means that it finds the value of the expression.\n",
    "\n",
    "A **statement** is a unit of code that has an effect, like creating a variable or displaying a value.When we type a statement,\n",
    "the interpreter executes it, which means that it does whatever the statement says. In general, statements don’t have values."
   ]
  },
  {
   "cell_type": "markdown",
   "id": "intelligent-alert",
   "metadata": {},
   "source": [
    "### 6. After running the following code, what does the variable bacon contain?\n",
    "#### bacon = 22\n",
    "#### bacon + 1"
   ]
  },
  {
   "cell_type": "code",
   "execution_count": 6,
   "id": "turkish-breathing",
   "metadata": {},
   "outputs": [
    {
     "data": {
      "text/plain": [
       "23"
      ]
     },
     "execution_count": 6,
     "metadata": {},
     "output_type": "execute_result"
    }
   ],
   "source": [
    "bacon = 22\n",
    "bacon + 1"
   ]
  },
  {
   "cell_type": "code",
   "execution_count": 7,
   "id": "found-stockholm",
   "metadata": {},
   "outputs": [
    {
     "name": "stdout",
     "output_type": "stream",
     "text": [
      "22\n"
     ]
    }
   ],
   "source": [
    "print(bacon)"
   ]
  },
  {
   "cell_type": "markdown",
   "id": "saved-graduation",
   "metadata": {},
   "source": [
    "Ans:-\n",
    "**bacon = 22**, In this statement the variable **bacon** set to 22 <br>\n",
    "**bacon + 1**, In this statement, we are adding **bacon** and 1. This statement does not effect on **bacon** variable as not reassign. <br>\n",
    "Finally **bacon** contains **22**."
   ]
  },
  {
   "cell_type": "markdown",
   "id": "introductory-trustee",
   "metadata": {},
   "source": [
    "### 7. What should the values of the following two terms be?\n",
    "#### 'spam' + 'spamspam'\n",
    "#### 'spam' * 3"
   ]
  },
  {
   "cell_type": "code",
   "execution_count": 8,
   "id": "square-powell",
   "metadata": {},
   "outputs": [
    {
     "data": {
      "text/plain": [
       "'spamspamspam'"
      ]
     },
     "execution_count": 8,
     "metadata": {},
     "output_type": "execute_result"
    }
   ],
   "source": [
    "'spam'+'spamspam' "
   ]
  },
  {
   "cell_type": "code",
   "execution_count": 9,
   "id": "aggressive-dynamics",
   "metadata": {},
   "outputs": [
    {
     "data": {
      "text/plain": [
       "'spamspamspam'"
      ]
     },
     "execution_count": 9,
     "metadata": {},
     "output_type": "execute_result"
    }
   ],
   "source": [
    "'spam'*3  "
   ]
  },
  {
   "cell_type": "markdown",
   "id": "optimum-eligibility",
   "metadata": {},
   "source": [
    "**'spam' + 'spamspam'**:- This expression evaluate String concatenation <br>\n",
    "**'spam'\\*3** :- This expression evaluate string multiplication"
   ]
  },
  {
   "cell_type": "markdown",
   "id": "alpha-covering",
   "metadata": {},
   "source": [
    "### 8. Why is eggs a valid variable name while 100 is invalid?"
   ]
  },
  {
   "cell_type": "markdown",
   "id": "spiritual-chest",
   "metadata": {},
   "source": [
    "Ans: As per python,Variable names cannot begin with a number. The python rules for naming a variable are :- \n",
    "1. Variable name must start with a letter or the underscore character.\n",
    "2. Variable name cannot start with a number.\n",
    "3. Variable name can only contain alpha-numeric characters and underscores (A-z, 0-9, & _ ).\n",
    "4. Variable names are case-sensitive.\n",
    "5. The reserved words(keywords) cannot be used naming the variable."
   ]
  },
  {
   "cell_type": "markdown",
   "id": "cardiac-money",
   "metadata": {},
   "source": [
    "### 9. What three functions can be used to get the integer, floating-point number, or string version of a value?"
   ]
  },
  {
   "cell_type": "markdown",
   "id": "progressive-indication",
   "metadata": {},
   "source": [
    "**int()** - used to get the integer values <br>\n",
    "**float()** - used to get the floating-point <br>\n",
    "**str()** - used to get the string values <br>"
   ]
  },
  {
   "cell_type": "code",
   "execution_count": 12,
   "id": "julian-springer",
   "metadata": {},
   "outputs": [
    {
     "name": "stdout",
     "output_type": "stream",
     "text": [
      "10\n",
      "10.0\n",
      "10\n"
     ]
    }
   ],
   "source": [
    "print(int(10))\n",
    "print(float(10))\n",
    "print(str(10))"
   ]
  },
  {
   "cell_type": "markdown",
   "id": "gorgeous-violation",
   "metadata": {},
   "source": [
    "### 10. Why does this expression cause an error? How can you fix it?\n",
    "#### 'I have eaten' + 99 + 'burritos'"
   ]
  },
  {
   "cell_type": "code",
   "execution_count": 13,
   "id": "understanding-parent",
   "metadata": {},
   "outputs": [
    {
     "ename": "TypeError",
     "evalue": "can only concatenate str (not \"int\") to str",
     "output_type": "error",
     "traceback": [
      "\u001b[1;31m---------------------------------------------------------------------------\u001b[0m",
      "\u001b[1;31mTypeError\u001b[0m                                 Traceback (most recent call last)",
      "\u001b[1;32m<ipython-input-13-9230c793b9b6>\u001b[0m in \u001b[0;36m<module>\u001b[1;34m\u001b[0m\n\u001b[1;32m----> 1\u001b[1;33m \u001b[1;34m'I have eaten'\u001b[0m \u001b[1;33m+\u001b[0m \u001b[1;36m99\u001b[0m \u001b[1;33m+\u001b[0m \u001b[1;34m'burritos'\u001b[0m\u001b[1;33m\u001b[0m\u001b[1;33m\u001b[0m\u001b[0m\n\u001b[0m",
      "\u001b[1;31mTypeError\u001b[0m: can only concatenate str (not \"int\") to str"
     ]
    }
   ],
   "source": [
    "'I have eaten' + 99 + 'burritos'"
   ]
  },
  {
   "cell_type": "markdown",
   "id": "brutal-deadline",
   "metadata": {},
   "source": [
    "Ans:- Concatenation of different data types (string and int) is not possible. To solve this, we have to type cast the integer values to sring."
   ]
  },
  {
   "cell_type": "code",
   "execution_count": 14,
   "id": "manual-spotlight",
   "metadata": {},
   "outputs": [
    {
     "data": {
      "text/plain": [
       "'I have eaten99burritos'"
      ]
     },
     "execution_count": 14,
     "metadata": {},
     "output_type": "execute_result"
    }
   ],
   "source": [
    "'I have eaten' + str(99) + 'burritos'"
   ]
  }
 ],
 "metadata": {
  "kernelspec": {
   "display_name": "Python 3",
   "language": "python",
   "name": "python3"
  },
  "language_info": {
   "codemirror_mode": {
    "name": "ipython",
    "version": 3
   },
   "file_extension": ".py",
   "mimetype": "text/x-python",
   "name": "python",
   "nbconvert_exporter": "python",
   "pygments_lexer": "ipython3",
   "version": "3.8.5"
  }
 },
 "nbformat": 4,
 "nbformat_minor": 5
}
